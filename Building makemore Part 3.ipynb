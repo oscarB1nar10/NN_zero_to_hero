{
 "cells": [
  {
   "cell_type": "code",
   "execution_count": 23,
   "id": "2ee4c72d",
   "metadata": {},
   "outputs": [],
   "source": [
    "import torch\n",
    "import torch.nn.functional as F\n",
    "import matplotlib.pyplot as plt\n",
    "%matplotlib inline"
   ]
  },
  {
   "cell_type": "code",
   "execution_count": 24,
   "id": "ba3721e5",
   "metadata": {},
   "outputs": [
    {
     "data": {
      "text/plain": [
       "['emma', 'olivia', 'ava', 'isabella', 'sophia', 'charlotte', 'mia', 'amelia']"
      ]
     },
     "execution_count": 24,
     "metadata": {},
     "output_type": "execute_result"
    }
   ],
   "source": [
    "# Read in all the words\n",
    "words = open('names.txt', 'r').read().splitlines()\n",
    "words[:8]"
   ]
  },
  {
   "cell_type": "code",
   "execution_count": 25,
   "id": "5f071a1b",
   "metadata": {},
   "outputs": [
    {
     "data": {
      "text/plain": [
       "32033"
      ]
     },
     "execution_count": 25,
     "metadata": {},
     "output_type": "execute_result"
    }
   ],
   "source": [
    "len(words)"
   ]
  },
  {
   "cell_type": "code",
   "execution_count": 26,
   "id": "3afc7330",
   "metadata": {},
   "outputs": [
    {
     "name": "stdout",
     "output_type": "stream",
     "text": [
      "{1: 'a', 2: 'b', 3: 'c', 4: 'd', 5: 'e', 6: 'f', 7: 'g', 8: 'h', 9: 'i', 10: 'j', 11: 'k', 12: 'l', 13: 'm', 14: 'n', 15: 'o', 16: 'p', 17: 'q', 18: 'r', 19: 's', 20: 't', 21: 'u', 22: 'v', 23: 'w', 24: 'x', 25: 'y', 26: 'z', 0: '.'}\n"
     ]
    }
   ],
   "source": [
    "# Build the vocabulary of characters and mapping to/from integers\n",
    "chars = sorted(list(set(''.join(words)))) # All individual words in the dataset\n",
    "stoi = {s:i+1 for i,s in enumerate(chars)} # String to integer mapping\n",
    "stoi['.'] = 0 # In the vocabulary doen't exist the '.' character by default, we include it at the first position\n",
    "itos = {i:s for s,i in stoi.items()} # Integer to string mapping\n",
    "print(itos)"
   ]
  },
  {
   "cell_type": "code",
   "execution_count": 27,
   "id": "bb4c3a22",
   "metadata": {},
   "outputs": [
    {
     "name": "stdout",
     "output_type": "stream",
     "text": [
      "tensor([ 5, 13, 13,  1])\n"
     ]
    }
   ],
   "source": [
    "characters_integer = []\n",
    "for ch in 'emma':\n",
    "    characters_integer.append(stoi[ch])\n",
    "\n",
    "print(torch.tensor(characters_integer))"
   ]
  },
  {
   "cell_type": "code",
   "execution_count": 28,
   "id": "7eca6a99",
   "metadata": {},
   "outputs": [
    {
     "name": "stdout",
     "output_type": "stream",
     "text": [
      "torch.Size([182625, 3]) torch.Size([182625])\n",
      "torch.Size([22655, 3]) torch.Size([22655])\n",
      "torch.Size([22866, 3]) torch.Size([22866])\n"
     ]
    }
   ],
   "source": [
    "# Build the dataset\n",
    "\n",
    "block_size = 3 # Context length: how many characters do we take to predict the next one\n",
    "\n",
    "def build_dataset(words):\n",
    "    X, Y = [], []\n",
    "    for w in words:\n",
    "        #print(w)\n",
    "        # Creates a list with three elements, each of which is 0\n",
    "        # This context list will be a sliding window always containing the previous three characters\n",
    "        # in order to predict the next\n",
    "        context = [0] * block_size\n",
    "        for ch in w + '.':\n",
    "            ix = stoi[ch]\n",
    "            # Our input data now will be a context of size three different to the context of size one we builded\n",
    "            # in the previous code lab\n",
    "            X.append(context)\n",
    "            Y.append(ix)\n",
    "            #print(''.join(itos[i] for i in context), '--->', itos[ix])\n",
    "            # Update the context window to include the lastest character while discarding the oldesde one\n",
    "            context = context[1:] + [ix]\n",
    "    X = torch.tensor(X)\n",
    "    Y = torch.tensor(Y)\n",
    "    print(X.shape, Y.shape)\n",
    "    return X, Y\n",
    "\n",
    "import random\n",
    "random.seed(42)\n",
    "random.shuffle(words)\n",
    "n1 = int(0.8*len(words)) # 80% of the words\n",
    "n2 = int(0.9*len(words)) # 90% of the words\n",
    "\n",
    "Xtr, Ytr = build_dataset(words[:n1])\n",
    "Xdev, Ydev = build_dataset(words[n1:n2])\n",
    "Xte, Yte = build_dataset(words[n2:])"
   ]
  },
  {
   "cell_type": "code",
   "execution_count": 34,
   "id": "3238c33b",
   "metadata": {},
   "outputs": [
    {
     "name": "stdout",
     "output_type": "stream",
     "text": [
      "11897\n"
     ]
    }
   ],
   "source": [
    "n_embd = 10 # The dimensionality of the character embedding vectors\n",
    "n_hidden = 200 # The number of neurons in the hidden layer of the MLP\n",
    "\n",
    "\n",
    "g = torch.Generator().manual_seed(2147483647)\n",
    "# Each character is represented by a continuous vector of a fixed size (n_embd in this case)\n",
    "# These embeddings are learned during training and can capture more information about characters\n",
    "# in a more conpact form than one-hot vectors\n",
    "C = torch.randn((27, n_embd), generator=g) # Character embedding matrix\n",
    "W1 = torch.randn((30, n_hidden), generator=g)\n",
    "b1 = torch.randn(n_hidden, generator=g)\n",
    "W2 = torch.randn((n_hidden, 27), generator=g) * 0.01\n",
    "b2 = torch.randn(27, generator=g) * 0\n",
    "parameters = [C, W1, b1, W2, b2]\n",
    "\n",
    "# Number of parameters in total\n",
    "print(sum(p.nelement() for p in parameters))\n",
    "\n",
    "for param in parameters:\n",
    "    param.requires_grad = True"
   ]
  },
  {
   "cell_type": "code",
   "execution_count": 39,
   "id": "56683068",
   "metadata": {},
   "outputs": [
    {
     "name": "stdout",
     "output_type": "stream",
     "text": [
      "      0/ 200000:  3.1857\n"
     ]
    }
   ],
   "source": [
    "max_steps = 200000\n",
    "batch_size = 32\n",
    "lossi = []\n",
    "\n",
    "for i in range(max_steps):\n",
    "    # Minibatch construct\n",
    "    ix = torch.randint(0, Xtr.shape[0], (batch_size,), generator=g)\n",
    "    Xb, Yb = Xtr[ix], Ytr[ix] # Batch X, Y\n",
    "    \n",
    "    \n",
    "    # Forward pass\n",
    "    emb = C[Xb] # Embed the characters into vectors\n",
    "    embcat = emb.view(emb.shape[0], -1) # Concatenate the vectors\n",
    "    hpreact = embcat @ W1 + b1 # Hidden layer pre-activation\n",
    "    h = torch.tanh(hpreact) # Hidden layer\n",
    "    logits = h @ W2 + b2 # Output layer\n",
    "    loss = F.cross_entropy(logits, Yb)\n",
    "\n",
    "    \n",
    "    # Backward pass\n",
    "    # We want to set the gradients to be zero\n",
    "    for param in parameters:\n",
    "        param.grad = None\n",
    "    loss.backward()\n",
    "    \n",
    "    # Update\n",
    "    lr = 0.1 if i < 100000 else 0.01\n",
    "    for param in parameters:\n",
    "        param.data += -lr * param.grad\n",
    "        \n",
    "        \n",
    "    # Track stats\n",
    "    if i % 10000 == 0: # Print every once in a while\n",
    "        print(f'{i:7d}/{max_steps:7d}:  {loss.item():.4f}')\n",
    "    lossi.append(loss.log10().item())\n",
    "    \n",
    "    break"
   ]
  },
  {
   "cell_type": "code",
   "execution_count": 36,
   "id": "8769bead",
   "metadata": {},
   "outputs": [
    {
     "data": {
      "text/plain": [
       "[<matplotlib.lines.Line2D at 0x200763b6390>]"
      ]
     },
     "execution_count": 36,
     "metadata": {},
     "output_type": "execute_result"
    },
    {
     "data": {
      "image/png": "[encoded data removed]",
      "text/plain": [
       "<Figure size 640x480 with 1 Axes>"
      ]
     },
     "metadata": {},
     "output_type": "display_data"
    }
   ],
   "source": [
    "plt.plot(lossi)"
   ]
  },
  {
   "cell_type": "code",
   "execution_count": 37,
   "id": "00594490",
   "metadata": {},
   "outputs": [
    {
     "name": "stdout",
     "output_type": "stream",
     "text": [
      "train 3.1878931522369385\n",
      "val 3.187795877456665\n"
     ]
    }
   ],
   "source": [
    "# We don't want to keep the computation graph in order to compute gradients\n",
    "# which are only needed during the training phase\n",
    "@torch.no_grad() # This decorator disables gradient tracking\n",
    "def split_loss(split):\n",
    "    x, y = {\n",
    "        'train': (Xtr, Ytr),\n",
    "        'val': (Xdev, Ydev),\n",
    "        'test': (Xte, Yte)\n",
    "    }[split]\n",
    "    \n",
    "    emb = C[x] # (N, block_size, n_embd)\n",
    "    embcat = emb.view(emb.shape[0], -1) # Concatenate into (N, block_size, n_embd)\n",
    "    h = torch.tanh(embcat @ W1 + b1) # (N, n_hidden)\n",
    "    logits = h @ W2 + b2 # (N, vocab_size)\n",
    "    loss = F.cross_entropy(logits, y)\n",
    "    print(split, loss.item())\n",
    "    \n",
    "split_loss('train')\n",
    "split_loss('val')"
   ]
  },
  {
   "cell_type": "markdown",
   "id": "964f9627",
   "metadata": {},
   "source": [
    "### Sample from the model"
   ]
  },
  {
   "cell_type": "code",
   "execution_count": 17,
   "id": "e6dbb52c",
   "metadata": {},
   "outputs": [
    {
     "name": "stdout",
     "output_type": "stream",
     "text": [
      "mona.\n",
      "mayah.\n",
      "see.\n",
      "mel.\n",
      "ryla.\n",
      "ren.\n",
      "ruchadrael.\n",
      "aderronelin.\n",
      "shy.\n",
      "jenne.\n",
      "elionna.\n",
      "arleit.\n",
      "kollyan.\n",
      "noshuberghairiel.\n",
      "kendreth.\n",
      "konnterco.\n",
      "uszande.\n",
      "ryyah.\n",
      "fael.\n",
      "yuma.\n"
     ]
    }
   ],
   "source": [
    "g = torch.Generator().manual_seed(2147483647 + 10)\n",
    "\n",
    "for _ in range(20):\n",
    "    out = []\n",
    "    context = [0] * block_size # Initialize with all ... [0, 0, 0]\n",
    "    while True:\n",
    "        # Forward pass the NN\n",
    "        emb = C[torch.tensor([context])] # (1, block_size, n_embd)\n",
    "        h = torch.tanh(emb.view(1, -1) @ W1 + b1)\n",
    "        logits = h @ W2 + b2\n",
    "        probs = F.softmax(logits, dim=1)\n",
    "        \n",
    "        # Sample from the distribution\n",
    "        ix = torch.multinomial(probs, num_samples=1, generator=g).item()\n",
    "        # Shift the context window and track the samples\n",
    "        context = context[1:] + [ix]\n",
    "        out.append(ix)\n",
    "        # If we sample the special '.' token, break\n",
    "        if ix == 0:\n",
    "            break\n",
    "            \n",
    "    print(''.join(itos[i] for i in out)) # Decode and print the generated word"
   ]
  },
  {
   "cell_type": "markdown",
   "id": "194e74cd",
   "metadata": {},
   "source": [
    "### Parameters initialization"
   ]
  },
  {
   "cell_type": "code",
   "execution_count": 24,
   "id": "6c3474c8",
   "metadata": {},
   "outputs": [],
   "source": [
    "# The probability expected at the beginning should be 1/27 if all the characters have the\n",
    "# same probability to be chosen"
   ]
  },
  {
   "cell_type": "code",
   "execution_count": 18,
   "id": "c4c714ba",
   "metadata": {},
   "outputs": [
    {
     "data": {
      "text/plain": [
       "tensor(3.2958)"
      ]
     },
     "execution_count": 18,
     "metadata": {},
     "output_type": "execute_result"
    }
   ],
   "source": [
    "# Negative Log likelihood\n",
    "-torch.tensor(1/27.0).log()"
   ]
  },
  {
   "cell_type": "code",
   "execution_count": null,
   "id": "fbc294ef",
   "metadata": {},
   "outputs": [],
   "source": [
    "# The loss at the begining is bigger than the expected.\n",
    "# Actual:  27.8817\n",
    "# Expected: 3.2958\n",
    "\n",
    "# Note:\n",
    "#     In training a neural network it is almost the case that we\n",
    "#     will have a rough idea for what loss to expect at initialization"
   ]
  },
  {
   "cell_type": "code",
   "execution_count": 47,
   "id": "a5ff6b5d",
   "metadata": {},
   "outputs": [],
   "source": [
    "# The activation of the hidden states\n",
    "# Most of the values by far take on the value of negative one and one"
   ]
  },
  {
   "attachments": {
    "image.png": {
     "image/png": "[encoded data removed]"
    }
   },
   "cell_type": "markdown",
   "id": "b080fac9",
   "metadata": {},
   "source": [
    "![image.png](attachment:image.png)"
   ]
  },
  {
   "cell_type": "code",
   "execution_count": null,
   "id": "57cda561",
   "metadata": {},
   "outputs": [],
   "source": [
    "# Pre-activations feed into the tanh are very broad, these takes numbers between [-20, 20]\n",
    "# and that's why in the tanh() everything is being sqashed and capped to be in the range of \n",
    "# negative one and one"
   ]
  },
  {
   "attachments": {
    "image.png": {
     "image/png": "[encoded data removed]"
    }
   },
   "cell_type": "markdown",
   "id": "98f0a6a8",
   "metadata": {},
   "source": [
    "![image.png](attachment:image.png)"
   ]
  },
  {
   "cell_type": "code",
   "execution_count": 48,
   "id": "1f91e260",
   "metadata": {},
   "outputs": [],
   "source": [
    "# Let's see how often `h` is in the flat region which causes that backpropagation\n",
    "# pass directly through the neuron without effect in its gradient because \n",
    "# if t is 1 or -1 the sqare of it is 1 and (1 - 1) is zero then the gradient is set to 0\n",
    "# i.e., self.grad += (1 - t**2) * out.grad"
   ]
  },
  {
   "cell_type": "code",
   "execution_count": 49,
   "id": "e9dd8baf",
   "metadata": {},
   "outputs": [
    {
     "data": {
      "text/plain": [
       "<matplotlib.image.AxesImage at 0x200761a6e50>"
      ]
     },
     "execution_count": 49,
     "metadata": {},
     "output_type": "execute_result"
    },
    {
     "data": {
      "image/png": "[encoded data removed]",
      "text/plain": [
       "<Figure size 2000x1000 with 1 Axes>"
      ]
     },
     "metadata": {},
     "output_type": "display_data"
    }
   ],
   "source": [
    "plt.figure(figsize=(20,10))\n",
    "plt.imshow(h.abs() > 0.99, cmap='gray', interpolation='nearest')"
   ]
  },
  {
   "cell_type": "code",
   "execution_count": 46,
   "id": "8cf27532",
   "metadata": {},
   "outputs": [
    {
     "data": {
      "image/png": "[encoded data removed]",
      "text/plain": [
       "<Figure size 640x480 with 1 Axes>"
      ]
     },
     "metadata": {},
     "output_type": "display_data"
    }
   ],
   "source": [
    "plt.hist(h.view(-1).tolist(), 50);"
   ]
  },
  {
   "cell_type": "code",
   "execution_count": 45,
   "id": "84f39512",
   "metadata": {},
   "outputs": [
    {
     "data": {
      "image/png": "[encoded data removed]",
      "text/plain": [
       "<Figure size 640x480 with 1 Axes>"
      ]
     },
     "metadata": {},
     "output_type": "display_data"
    }
   ],
   "source": [
    "plt.hist(hpreact.view(-1).tolist(), 50);"
   ]
  },
  {
   "cell_type": "code",
   "execution_count": null,
   "id": "0d72796b",
   "metadata": {},
   "outputs": [],
   "source": []
  }
 ],
 "metadata": {
  "kernelspec": {
   "display_name": "nn_zero_to_hero_kernel",
   "language": "python",
   "name": "nn_zero_to_hero_kernel"
  },
  "language_info": {
   "codemirror_mode": {
    "name": "ipython",
    "version": 3
   },
   "file_extension": ".py",
   "mimetype": "text/x-python",
   "name": "python",
   "nbconvert_exporter": "python",
   "pygments_lexer": "ipython3",
   "version": "3.11.5"
  }
 },
 "nbformat": 4,
 "nbformat_minor": 5
}
