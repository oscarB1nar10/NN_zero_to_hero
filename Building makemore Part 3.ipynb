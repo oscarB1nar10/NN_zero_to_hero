{
 "cells": [
  {
   "cell_type": "code",
   "execution_count": 1,
   "id": "2ee4c72d",
   "metadata": {},
   "outputs": [],
   "source": [
    "import torch\n",
    "import torch.nn.functional as F\n",
    "import matplotlib.pyplot as plt\n",
    "%matplotlib inline"
   ]
  },
  {
   "cell_type": "markdown",
   "id": "3103a66f",
   "metadata": {},
   "source": [
    "### Read, transform dataset"
   ]
  },
  {
   "cell_type": "code",
   "execution_count": 2,
   "id": "ba3721e5",
   "metadata": {},
   "outputs": [
    {
     "data": {
      "text/plain": [
       "['emma', 'olivia', 'ava', 'isabella', 'sophia', 'charlotte', 'mia', 'amelia']"
      ]
     },
     "execution_count": 2,
     "metadata": {},
     "output_type": "execute_result"
    }
   ],
   "source": [
    "# Read in all the words\n",
    "words = open('names.txt', 'r').read().splitlines()\n",
    "words[:8]"
   ]
  },
  {
   "cell_type": "code",
   "execution_count": 3,
   "id": "5f071a1b",
   "metadata": {},
   "outputs": [
    {
     "data": {
      "text/plain": [
       "32033"
      ]
     },
     "execution_count": 3,
     "metadata": {},
     "output_type": "execute_result"
    }
   ],
   "source": [
    "len(words)"
   ]
  },
  {
   "cell_type": "code",
   "execution_count": 10,
   "id": "3afc7330",
   "metadata": {},
   "outputs": [
    {
     "name": "stdout",
     "output_type": "stream",
     "text": [
      "{1: 'a', 2: 'b', 3: 'c', 4: 'd', 5: 'e', 6: 'f', 7: 'g', 8: 'h', 9: 'i', 10: 'j', 11: 'k', 12: 'l', 13: 'm', 14: 'n', 15: 'o', 16: 'p', 17: 'q', 18: 'r', 19: 's', 20: 't', 21: 'u', 22: 'v', 23: 'w', 24: 'x', 25: 'y', 26: 'z', 0: '.'}\n"
     ]
    }
   ],
   "source": [
    "# Build the vocabulary of characters and mapping to/from integers\n",
    "chars = sorted(list(set(''.join(words)))) # All individual words in the dataset\n",
    "stoi = {s:i+1 for i,s in enumerate(chars)} # String to integer mapping\n",
    "stoi['.'] = 0 # In the vocabulary doen't exist the '.' character by default, we include it at the first position\n",
    "itos = {i:s for s,i in stoi.items()} # Integer to string mapping\n",
    "print(itos)"
   ]
  },
  {
   "cell_type": "code",
   "execution_count": 11,
   "id": "bb4c3a22",
   "metadata": {},
   "outputs": [
    {
     "name": "stdout",
     "output_type": "stream",
     "text": [
      "tensor([ 5, 13, 13,  1])\n"
     ]
    }
   ],
   "source": [
    "# Example representing a name as a list of numbers\n",
    "characters_integer = []\n",
    "for ch in 'emma':\n",
    "    characters_integer.append(stoi[ch])\n",
    "\n",
    "print(torch.tensor(characters_integer))"
   ]
  },
  {
   "cell_type": "markdown",
   "id": "e7fadfd8",
   "metadata": {},
   "source": [
    "### Create training, validation and test datasets"
   ]
  },
  {
   "cell_type": "code",
   "execution_count": 12,
   "id": "7eca6a99",
   "metadata": {},
   "outputs": [
    {
     "name": "stdout",
     "output_type": "stream",
     "text": [
      "torch.Size([182580, 3]) torch.Size([182580])\n",
      "torch.Size([22767, 3]) torch.Size([22767])\n",
      "torch.Size([22799, 3]) torch.Size([22799])\n"
     ]
    }
   ],
   "source": [
    "# Build the dataset\n",
    "\n",
    "block_size = 3 # Context length: how many characters do we take to predict the next one\n",
    "\n",
    "def build_dataset(words):\n",
    "    X, Y = [], []\n",
    "    for w in words:\n",
    "        #print(w)\n",
    "        # Creates a list with three elements, each of which is 0\n",
    "        # This context list will be a sliding window always containing the previous three characters\n",
    "        # in order to predict the next\n",
    "        context = [0] * block_size\n",
    "        for ch in w + '.':\n",
    "            ix = stoi[ch]\n",
    "            # Our input data now will be a context of size three different to the context of size one we builded\n",
    "            # in the previous code lab\n",
    "            X.append(context)\n",
    "            Y.append(ix)\n",
    "            #print(''.join(itos[i] for i in context), '--->', itos[ix])\n",
    "            # Update the context window to include the lastest character while discarding the oldesde one\n",
    "            context = context[1:] + [ix]\n",
    "    X = torch.tensor(X)\n",
    "    Y = torch.tensor(Y)\n",
    "    print(X.shape, Y.shape)\n",
    "    return X, Y\n",
    "\n",
    "import random\n",
    "random.seed(42)\n",
    "random.shuffle(words)\n",
    "n1 = int(0.8*len(words)) # 80% of the words\n",
    "n2 = int(0.9*len(words)) # 90% of the words\n",
    "\n",
    "Xtr, Ytr = build_dataset(words[:n1]) # 80% for training\n",
    "Xdev, Ydev = build_dataset(words[n1:n2]) # 10% for validation/dev\n",
    "Xte, Yte = build_dataset(words[n2:]) # 10% for test"
   ]
  },
  {
   "cell_type": "markdown",
   "id": "a15d1259",
   "metadata": {},
   "source": [
    "### Define NN architecture"
   ]
  },
  {
   "cell_type": "code",
   "execution_count": 13,
   "id": "3238c33b",
   "metadata": {},
   "outputs": [
    {
     "name": "stdout",
     "output_type": "stream",
     "text": [
      "12297\n"
     ]
    }
   ],
   "source": [
    "n_embd = 10 # The dimensionality of the character embedding vectors\n",
    "n_hidden = 200 # The number of neurons in the hidden layer of the MLP\n",
    "\n",
    "\n",
    "g = torch.Generator().manual_seed(2147483647)\n",
    "# Each character is represented by a continuous vector of a fixed size (n_embd in this case)\n",
    "# These embeddings are learned during training and can capture more information about characters\n",
    "# in a more conpact form than one-hot vectors\n",
    "C = torch.randn((27, n_embd), generator=g) # Character embedding matrix\n",
    "\n",
    "# The expression `* (5/3)/(n_embd * block_size)**0.5` is a scaling factor applied to the initial\n",
    "# weights of the neural network, specifically for the weights of the first layer(`W1`)\n",
    "\n",
    "# By scaling the initial weights the network starts with weights that are neither too large\n",
    "# (which can lead to exploding gradients) nor to small (leading to vanishing gradients)\n",
    "\n",
    "# This scalling is specially important for networks using activation functions like tanh or sigmoid,\n",
    "# where large weights can saturate the neurons at the start of training\n",
    "W1 = torch.randn((n_embd * block_size, n_hidden), generator=g) * (5/3)/(n_embd * block_size)**0.5\n",
    "b1 = torch.randn(n_hidden, generator=g) * 0\n",
    "W2 = torch.randn((n_hidden, 27), generator=g) * 0.01\n",
    "b2 = torch.randn(27, generator=g) * 0\n",
    "\n",
    "# For batch normalization\n",
    "batch_gain = torch.ones((1, n_hidden))\n",
    "batch_bias = torch.zeros((1, n_hidden))\n",
    "batch_n_mean_running = torch.zeros((1, n_hidden))\n",
    "batch_n_stdi_running = torch.ones((1, n_hidden))\n",
    "\n",
    "parameters = [C, W1, b1, W2, b2, batch_gain, batch_bias]\n",
    "\n",
    "# Number of parameters in total\n",
    "print(sum(p.nelement() for p in parameters))\n",
    "\n",
    "for param in parameters:\n",
    "    param.requires_grad = True"
   ]
  },
  {
   "cell_type": "markdown",
   "id": "31338e83",
   "metadata": {},
   "source": [
    "### Training"
   ]
  },
  {
   "cell_type": "code",
   "execution_count": 8,
   "id": "56683068",
   "metadata": {},
   "outputs": [
    {
     "name": "stdout",
     "output_type": "stream",
     "text": [
      "      0/ 200000:  3.3147\n",
      "  10000/ 200000:  2.1984\n",
      "  20000/ 200000:  2.3375\n",
      "  30000/ 200000:  2.4359\n",
      "  40000/ 200000:  2.0119\n",
      "  50000/ 200000:  2.2595\n",
      "  60000/ 200000:  2.4775\n",
      "  70000/ 200000:  2.1020\n",
      "  80000/ 200000:  2.2788\n",
      "  90000/ 200000:  2.1862\n",
      " 100000/ 200000:  1.9474\n",
      " 110000/ 200000:  2.3010\n",
      " 120000/ 200000:  1.9837\n",
      " 130000/ 200000:  2.4523\n",
      " 140000/ 200000:  2.3839\n",
      " 150000/ 200000:  2.1987\n",
      " 160000/ 200000:  1.9733\n",
      " 170000/ 200000:  1.8668\n",
      " 180000/ 200000:  1.9973\n",
      " 190000/ 200000:  1.8347\n"
     ]
    }
   ],
   "source": [
    "max_steps = 200000\n",
    "batch_size = 32\n",
    "lossi = []\n",
    "\n",
    "for i in range(max_steps):\n",
    "    # Minibatch construct\n",
    "    ix = torch.randint(0, Xtr.shape[0], (batch_size,), generator=g)\n",
    "    # Where Xb[i] is the context windows (Three characters) that generates Yb[i]\n",
    "    Xb, Yb = Xtr[ix], Ytr[ix] # Batch X, Y\n",
    "    \n",
    "    # Forward pass\n",
    "    emb = C[Xb] # Embed the characters into vectors\n",
    "    # Re-shape the emb tensor, keeping the first dimension unchanged and combining the last ones\n",
    "    embcat = emb.view(emb.shape[0], -1)\n",
    "    # Linear layer\n",
    "    hpreact = embcat @ W1 #+ b1 # Hidden layer pre-activation 'z2'\n",
    "    #=========================================== BATCH NORMALIZATION (BN) ==============================\n",
    "    batch_n_meani = hpreact.mean(0, keepdim=True)\n",
    "    batch_n_stdi = hpreact.std(0, keepdim=True)\n",
    "    # For each feature in a mini-batch, Batch Normalization (BN) subtracts the mean and divides by the standar deviation,\n",
    "    # then scales and shifts the result\n",
    "    # This process helps in stabilizing the learning process and speeding up convergence\n",
    "    hpreact = batch_gain * (hpreact - batch_n_meani) / batch_n_stdi + batch_bias\n",
    "    \n",
    "    # The updated of batch_n_mean_running and batch_n_stdi_running they are not actually\n",
    "    # part of the grdient base optimization we're never going to derive gradients with respect\n",
    "    # to them, they are updated on the side of training\n",
    "    \n",
    "    # During training BN calculates calculates the mean and standard deviation for each mini-batch.\n",
    "    # These statistics are used to normalize the data in that specific mini-batch. However, during\n",
    "    # inference or evaluation, we migh not have a batch, or the batch size might be different.\n",
    "    \n",
    "    # The batch_n_mean_running and batch_n_stdi_running are stimates of the mean and std across the\n",
    "    # entire training dataset. They are updated at each training step based on the statistics of the\n",
    "    # current minit-batch\n",
    "    with torch.no_grad():\n",
    "        # The coefficients 0.999 and 0.001 are the decay rate and the learing rate, respectively\n",
    "        # A high decay rate(0.999) ensures that the running mean/std changes slowly over time,\n",
    "        # stabilizing the estimate\n",
    "        batch_n_mean_running = 0.999 * batch_n_mean_running + 0.001 * batch_n_meani\n",
    "        batch_n_stdi_running = 0.999 * batch_n_stdi_running + 0.001 * batch_n_stdi    \n",
    "    #========================================END BATCH NORMALIZATION =========================================    \n",
    "    # Non-linearity\n",
    "    h = torch.tanh(hpreact) # Activation for hidden layer 'a2'\n",
    "    \n",
    "    logits = h @ W2 + b2 # Pre-activation for output layer 'z3'\n",
    "    loss = F.cross_entropy(logits, Yb)\n",
    "    \n",
    "    # Backward pass\n",
    "    # We want to set the gradients to be zero\n",
    "    for param in parameters:\n",
    "        param.grad = None\n",
    "    loss.backward() # Calculate the new gradients\n",
    "    \n",
    "    # Update\n",
    "    lr = 0.1 if i < 100000 else 0.01\n",
    "    for param in parameters:\n",
    "        param.data += -lr * param.grad\n",
    "        \n",
    "        \n",
    "    # Track stats\n",
    "    if i % 10000 == 0: # Print every once in a while\n",
    "        print(f'{i:7d}/{max_steps:7d}:  {loss.item():.4f}')\n",
    "    lossi.append(loss.log10().item())\n",
    "    "
   ]
  },
  {
   "cell_type": "code",
   "execution_count": 17,
   "id": "8769bead",
   "metadata": {},
   "outputs": [
    {
     "data": {
      "text/plain": [
       "[<matplotlib.lines.Line2D at 0x20258e4fbd0>]"
      ]
     },
     "execution_count": 17,
     "metadata": {},
     "output_type": "execute_result"
    },
    {
     "data": {
      "image/png": "[encoded data removed]",
      "text/plain": [
       "<Figure size 640x480 with 1 Axes>"
      ]
     },
     "metadata": {},
     "output_type": "display_data"
    }
   ],
   "source": [
    "plt.plot(lossi)"
   ]
  },
  {
   "cell_type": "code",
   "execution_count": 19,
   "id": "9dd4c2db",
   "metadata": {},
   "outputs": [],
   "source": [
    "# Once we've trained a neural net we'd like to deploy it in some kind of a setting and we'd like to be able\n",
    "# to feed in a single individual example and get a prediction out from our NN but how do we do that when\n",
    "# our NN now in forward pass estimates the statistics of the mean and standard deviation of a batch.\n",
    "\n",
    "# The NN expects batches as an input\n",
    "\n",
    "# What we will do to workaround this is to add an step after training that calculates and sets the \n",
    "# batch mean and standard deviation a single time over the training set"
   ]
  },
  {
   "cell_type": "code",
   "execution_count": 19,
   "id": "9bcd813f",
   "metadata": {},
   "outputs": [],
   "source": [
    "# The benefit is that now we can now also forward a single example\n",
    "# because the mean and standard deviation are now fixed\n",
    "\n",
    "# Calibrate the batch norm at the end of training\n",
    "with torch.no_grad():\n",
    "    # Pass the training set through\n",
    "    emb = C[Xtr]\n",
    "    embcat = emb.view(emb.shape[0], -1)\n",
    "    hpreact = embcat @ W1 + b1\n",
    "    # Measure the mean/std over the entire training set\n",
    "    batch_norm_mean = hpreact.mean(0, keepdim=True)\n",
    "    batch_norm_std = hpreact.std(0, keepdim=True)"
   ]
  },
  {
   "cell_type": "code",
   "execution_count": 21,
   "id": "3c1390ad",
   "metadata": {},
   "outputs": [
    {
     "data": {
      "text/plain": [
       "tensor([[-2.3148,  0.6874, -0.9136,  0.9966,  1.0880,  1.0840,  1.7472, -2.1107,\n",
       "          0.5818,  1.4375, -1.6466, -2.7301, -0.4766, -0.1641, -0.0858, -1.1704,\n",
       "          0.6866, -2.6103, -0.0924,  1.6207, -0.7664, -0.3183,  0.0414,  0.6149,\n",
       "          1.1046,  0.2279,  2.0388,  0.5843,  0.8445,  1.7754, -0.3646, -0.8379,\n",
       "         -0.0896, -0.5023, -0.3711, -1.0608, -0.0749,  0.3473, -0.5914,  0.9716,\n",
       "         -0.4422, -1.3040, -0.3001, -0.2147,  0.6885,  0.6893,  2.0853, -0.7506,\n",
       "          2.3778,  1.8862,  0.8296,  0.2895,  1.8993,  0.4668,  0.6838, -1.8916,\n",
       "         -0.0522,  0.4209,  1.3688, -0.9079, -0.4528,  1.1846,  0.5669,  0.6121,\n",
       "          1.5833,  1.2313, -1.0180,  2.1523, -0.6460,  0.0949, -0.2969, -0.4722,\n",
       "          0.9620, -1.0408, -2.9998,  0.6501,  1.4310, -0.1545,  0.0938,  0.5273,\n",
       "          0.2381,  1.2512,  2.0559,  0.6612,  0.0664, -0.0787, -1.6763,  0.2953,\n",
       "          2.2552, -0.0272, -0.6879,  1.4155, -0.8440, -1.2223, -1.0225,  0.2298,\n",
       "          0.2184, -0.3140,  0.1117, -0.6066,  0.1870,  0.1074, -1.3940,  0.2151,\n",
       "          0.2062, -0.3756, -0.3225, -0.1820,  0.9048, -0.7874,  0.7050,  0.2340,\n",
       "          0.3866,  1.2474,  2.8524,  2.0636,  0.8410,  0.8425,  0.3650, -0.3044,\n",
       "         -1.0709, -1.4460,  0.3585,  1.1004, -1.1248,  0.0772, -0.2179, -0.4879,\n",
       "         -0.8513, -1.0870,  2.8130, -1.2863,  0.6607,  1.8692,  0.9321,  1.0561,\n",
       "         -0.7055,  1.8552,  0.1469,  0.4650,  1.6410, -0.1787,  1.9451,  0.3148,\n",
       "          0.4283,  0.2150,  1.1427, -0.7108,  0.1584,  0.5811, -1.5973, -0.2309,\n",
       "          1.7915,  1.2606,  0.9840, -0.4874,  1.3901, -1.6655,  0.0160,  0.4300,\n",
       "          0.5652, -0.4249,  0.9526, -1.1846, -0.4573, -0.7257, -0.3429, -0.4286,\n",
       "         -2.1554, -0.1022,  1.1683, -2.1566,  0.1227, -0.8835, -1.0024,  0.9098,\n",
       "          1.3090, -0.7439,  1.3003, -1.4914,  1.8300,  0.9777,  0.8347, -0.7322,\n",
       "          0.3562,  0.0673, -0.9728,  0.1443,  1.8839,  0.9298, -0.4882,  1.6377,\n",
       "         -0.7557,  0.2002,  0.1397,  1.2793,  1.8080, -0.8193,  0.2711,  1.2348]])"
      ]
     },
     "execution_count": 21,
     "metadata": {},
     "output_type": "execute_result"
    }
   ],
   "source": [
    "batch_norm_mean"
   ]
  },
  {
   "cell_type": "code",
   "execution_count": 22,
   "id": "f3c21f64",
   "metadata": {},
   "outputs": [
    {
     "data": {
      "text/plain": [
       "tensor([[-2.3332,  0.6971, -0.9004,  0.9962,  1.0909,  1.0764,  1.7424, -2.1255,\n",
       "          0.5695,  1.4166, -1.6568, -2.7355, -0.4875, -0.1739, -0.0800, -1.1531,\n",
       "          0.6906, -2.6284, -0.1142,  1.6121, -0.7690, -0.2985,  0.0401,  0.6153,\n",
       "          1.1045,  0.2285,  2.0431,  0.5789,  0.8433,  1.7803, -0.3762, -0.8409,\n",
       "         -0.0874, -0.5043, -0.3722, -1.0608, -0.0744,  0.3356, -0.5875,  0.9776,\n",
       "         -0.4503, -1.3271, -0.3025, -0.2114,  0.6912,  0.6979,  2.0831, -0.7656,\n",
       "          2.3717,  1.8742,  0.8154,  0.2827,  1.8897,  0.4663,  0.6755, -1.8937,\n",
       "         -0.0541,  0.4227,  1.3852, -0.9075, -0.4680,  1.1779,  0.5595,  0.6070,\n",
       "          1.5828,  1.2156, -1.0240,  2.1449, -0.6397,  0.1081, -0.3031, -0.4697,\n",
       "          0.9494, -1.0091, -2.9933,  0.6379,  1.4387, -0.1529,  0.0952,  0.5178,\n",
       "          0.2360,  1.2392,  2.0274,  0.6699,  0.0741, -0.0824, -1.6807,  0.2983,\n",
       "          2.2503, -0.0162, -0.6882,  1.4258, -0.8460, -1.2292, -1.0316,  0.2269,\n",
       "          0.1999, -0.3175,  0.1084, -0.5922,  0.1817,  0.0998, -1.4000,  0.2023,\n",
       "          0.2193, -0.3632, -0.3156, -0.1750,  0.9146, -0.8089,  0.7022,  0.2432,\n",
       "          0.3715,  1.2567,  2.8329,  2.0504,  0.8285,  0.8404,  0.3651, -0.2969,\n",
       "         -1.0835, -1.4389,  0.3491,  1.1105, -1.1235,  0.0776, -0.2283, -0.4851,\n",
       "         -0.8426, -1.0806,  2.8112, -1.2820,  0.6605,  1.8718,  0.9473,  1.0651,\n",
       "         -0.7085,  1.8373,  0.1565,  0.4850,  1.6552, -0.1850,  1.9480,  0.3196,\n",
       "          0.4191,  0.2147,  1.1447, -0.7132,  0.1595,  0.5789, -1.5964, -0.2214,\n",
       "          1.7987,  1.2631,  0.9737, -0.4868,  1.3929, -1.6636,  0.0230,  0.4228,\n",
       "          0.5537, -0.4068,  0.9484, -1.1737, -0.4661, -0.7301, -0.3314, -0.4293,\n",
       "         -2.1433, -0.0960,  1.1570, -2.1638,  0.1207, -0.8752, -1.0034,  0.9185,\n",
       "          1.3023, -0.7325,  1.2928, -1.4959,  1.8141,  0.9805,  0.8294, -0.7334,\n",
       "          0.3497,  0.0618, -0.9789,  0.1397,  1.8968,  0.9215, -0.4812,  1.6432,\n",
       "         -0.7764,  0.1929,  0.1577,  1.2668,  1.8107, -0.8051,  0.2578,  1.2314]])"
      ]
     },
     "execution_count": 22,
     "metadata": {},
     "output_type": "execute_result"
    }
   ],
   "source": [
    "batch_n_mean_running"
   ]
  },
  {
   "cell_type": "markdown",
   "id": "fd996ab6",
   "metadata": {},
   "source": [
    "### Evaluation"
   ]
  },
  {
   "cell_type": "code",
   "execution_count": 23,
   "id": "00594490",
   "metadata": {},
   "outputs": [
    {
     "name": "stdout",
     "output_type": "stream",
     "text": [
      "train 2.06659197807312\n",
      "val 2.10505747795105\n"
     ]
    }
   ],
   "source": [
    "# We don't want to keep the computation graph in order to compute gradients\n",
    "# which are only needed during the training phase\n",
    "@torch.no_grad() # This decorator disables gradient tracking\n",
    "def split_loss(split):\n",
    "    x, y = {\n",
    "        'train': (Xtr, Ytr),\n",
    "        'val': (Xdev, Ydev),\n",
    "        'test': (Xte, Yte)\n",
    "    }[split]\n",
    "    \n",
    "    emb = C[x] # (N, block_size, n_embd)\n",
    "    embcat = emb.view(emb.shape[0], -1) # Concatenate into (N, block_size, n_embd)\n",
    "    hpreact = embcat @ W1 + b1\n",
    "    hpreact = batch_gain * (hpreact - batch_n_mean_running) / batch_n_stdi_running + batch_bias\n",
    "    h = torch.tanh(hpreact) # (N, n_hidden)\n",
    "    logits = h @ W2 + b2 # (N, vocab_size)\n",
    "    loss = F.cross_entropy(logits, y)\n",
    "    print(split, loss.item())\n",
    "    \n",
    "split_loss('train')\n",
    "split_loss('val')"
   ]
  },
  {
   "cell_type": "markdown",
   "id": "964f9627",
   "metadata": {},
   "source": [
    "### Sample from the model"
   ]
  },
  {
   "cell_type": "code",
   "execution_count": 11,
   "id": "e6dbb52c",
   "metadata": {},
   "outputs": [
    {
     "name": "stdout",
     "output_type": "stream",
     "text": [
      "mora.\n",
      "mayah.\n",
      "see.\n",
      "mad.\n",
      "rylla.\n",
      "emmadiendraeg.\n",
      "adelyn.\n",
      "elin.\n",
      "shi.\n",
      "jen.\n",
      "edeiseananaraelyzion.\n",
      "kamin.\n",
      "shuberlyni.\n",
      "jest.\n",
      "jair.\n",
      "jeniqueterian.\n",
      "brence.\n",
      "ryyah.\n",
      "fael.\n",
      "yuva.\n"
     ]
    }
   ],
   "source": [
    "g = torch.Generator().manual_seed(2147483647 + 10)\n",
    "\n",
    "for _ in range(20):\n",
    "    out = []\n",
    "    context = [0] * block_size # Initialize with all ... [0, 0, 0]\n",
    "    while True:\n",
    "        # Forward pass the NN\n",
    "        emb = C[torch.tensor([context])] # (1, block_size, n_embd)\n",
    "        h = torch.tanh(emb.view(1, -1) @ W1 + b1)\n",
    "        logits = h @ W2 + b2\n",
    "        probs = F.softmax(logits, dim=1)\n",
    "        \n",
    "        # Sample from the distribution\n",
    "        ix = torch.multinomial(probs, num_samples=1, generator=g).item()\n",
    "        # Shift the context window and track the samples\n",
    "        context = context[1:] + [ix]\n",
    "        out.append(ix)\n",
    "        # If we sample the special '.' token, break\n",
    "        if ix == 0:\n",
    "            break\n",
    "            \n",
    "    print(''.join(itos[i] for i in out)) # Decode and print the generated word"
   ]
  },
  {
   "cell_type": "markdown",
   "id": "194e74cd",
   "metadata": {},
   "source": [
    "### Parameters initialization"
   ]
  },
  {
   "cell_type": "code",
   "execution_count": 12,
   "id": "6c3474c8",
   "metadata": {},
   "outputs": [],
   "source": [
    "# The probability expected at the beginning should be 1/27 if all the characters have the\n",
    "# same probability to be chosen"
   ]
  },
  {
   "cell_type": "code",
   "execution_count": 13,
   "id": "c4c714ba",
   "metadata": {},
   "outputs": [
    {
     "data": {
      "text/plain": [
       "tensor(3.2958)"
      ]
     },
     "execution_count": 13,
     "metadata": {},
     "output_type": "execute_result"
    }
   ],
   "source": [
    "# Negative Log likelihood\n",
    "-torch.tensor(1/27.0).log()"
   ]
  },
  {
   "cell_type": "code",
   "execution_count": 14,
   "id": "fbc294ef",
   "metadata": {},
   "outputs": [],
   "source": [
    "# The loss at the begining is bigger than the expected.\n",
    "# Actual:  27.8817\n",
    "# Expected: 3.2958\n",
    "\n",
    "# Note:\n",
    "#     In training a neural network it is almost the case that we\n",
    "#     will have a rough idea for what loss to expect at initialization"
   ]
  },
  {
   "cell_type": "code",
   "execution_count": 15,
   "id": "a5ff6b5d",
   "metadata": {},
   "outputs": [],
   "source": [
    "# The activation of the hidden states\n",
    "# Most of the values by far take on the value of negative one and one"
   ]
  },
  {
   "attachments": {
    "image.png": {
     "image/png": "[encoded data removed]"
    }
   },
   "cell_type": "markdown",
   "id": "b080fac9",
   "metadata": {},
   "source": [
    "![image.png](attachment:image.png)"
   ]
  },
  {
   "cell_type": "code",
   "execution_count": 16,
   "id": "57cda561",
   "metadata": {},
   "outputs": [],
   "source": [
    "# Pre-activations feed into the tanh are very broad, these takes numbers between [-20, 20]\n",
    "# and that's why in the tanh() everything is being sqashed and capped to be in the range of \n",
    "# negative one and one"
   ]
  },
  {
   "attachments": {
    "image.png": {
     "image/png": "[encoded data removed]"
    }
   },
   "cell_type": "markdown",
   "id": "98f0a6a8",
   "metadata": {},
   "source": [
    "![image.png](attachment:image.png)"
   ]
  },
  {
   "cell_type": "code",
   "execution_count": 17,
   "id": "1f91e260",
   "metadata": {},
   "outputs": [],
   "source": [
    "# Let's see how often `h` is in the flat region which causes that backpropagation\n",
    "# pass directly through the neuron without effect in its gradient because \n",
    "# if t is 1 or -1 the sqare of it is 1 and (1 - 1) is zero then the gradient is set to 0\n",
    "# i.e., self.grad += (1 - t**2) * out.grad"
   ]
  },
  {
   "cell_type": "code",
   "execution_count": 18,
   "id": "e9dd8baf",
   "metadata": {},
   "outputs": [
    {
     "data": {
      "text/plain": [
       "<matplotlib.image.AxesImage at 0x160102f8ed0>"
      ]
     },
     "execution_count": 18,
     "metadata": {},
     "output_type": "execute_result"
    },
    {
     "data": {
      "image/png": "[encoded data removed]",
      "text/plain": [
       "<Figure size 2000x1000 with 1 Axes>"
      ]
     },
     "metadata": {},
     "output_type": "display_data"
    }
   ],
   "source": [
    "plt.figure(figsize=(20,10))\n",
    "plt.imshow(h.abs() > 0.99, cmap='gray', interpolation='nearest')"
   ]
  },
  {
   "cell_type": "code",
   "execution_count": 12,
   "id": "8cf27532",
   "metadata": {},
   "outputs": [
    {
     "data": {
      "image/png": "[encoded data removed]",
      "text/plain": [
       "<Figure size 640x480 with 1 Axes>"
      ]
     },
     "metadata": {},
     "output_type": "display_data"
    }
   ],
   "source": [
    "plt.hist(h.view(-1).tolist(), 50);"
   ]
  },
  {
   "cell_type": "code",
   "execution_count": 20,
   "id": "84f39512",
   "metadata": {},
   "outputs": [
    {
     "data": {
      "image/png": "[encoded data removed]",
      "text/plain": [
       "<Figure size 640x480 with 1 Axes>"
      ]
     },
     "metadata": {},
     "output_type": "display_data"
    }
   ],
   "source": [
    "plt.hist(hpreact.view(-1).tolist(), 50);"
   ]
  },
  {
   "cell_type": "code",
   "execution_count": 13,
   "id": "0d72796b",
   "metadata": {},
   "outputs": [
    {
     "name": "stdout",
     "output_type": "stream",
     "text": [
      "tensor(0.0203) tensor(1.0114)\n",
      "tensor(-0.0012) tensor(1.0248)\n"
     ]
    },
    {
     "data": {
      "image/png": "[encoded data removed]",
      "text/plain": [
       "<Figure size 2000x500 with 2 Axes>"
      ]
     },
     "metadata": {},
     "output_type": "display_data"
    }
   ],
   "source": [
    "# Mean and variance\n",
    "X = torch.randn(1000, 10) # Random inputs from a Gausian distribution\n",
    "# Weights from a Gausian distribution\n",
    "# These neurons in the hidden layer look at 10 inputs and 200 neurons\n",
    "W = torch.randn(10, 200) / 10**0.5\n",
    "y = X @ W # Pre-activations of these neurons\n",
    "\n",
    "\n",
    "print(X.mean(), X.std())\n",
    "print(y.mean(), y.std())\n",
    "plt.figure(figsize=(20, 5))\n",
    "plt.subplot(121)\n",
    "plt.hist(X.view(-1).tolist(), 50, density=True);\n",
    "plt.subplot(122)\n",
    "plt.hist(y.view(-1).tolist(), 50, density=True);"
   ]
  },
  {
   "cell_type": "code",
   "execution_count": 9,
   "id": "c100afe2",
   "metadata": {},
   "outputs": [],
   "source": [
    "# At the beginning X is distributed according to the normal distribution with mean\n",
    "# 0 and standard deviation of 1 (Measure of spread of discussion)\n",
    "\n",
    "# y isn't distributed according to a normal distribution, with mean 0\n",
    "# and standard deviation higher than 1 (3.13)\n",
    "\n",
    "# How can we preserve the standard deviation to be one?\n",
    "# torch.randn(10, 200) / 10**0.5"
   ]
  },
  {
   "cell_type": "markdown",
   "id": "1ba0ce8a",
   "metadata": {},
   "source": [
    "### Summary"
   ]
  },
  {
   "cell_type": "code",
   "execution_count": null,
   "id": "bc1076c1",
   "metadata": {},
   "outputs": [],
   "source": [
    "# Understanding  the activations, the gradients and theirs statistics in NN\n",
    "# This becomes increasingly important especially as we make our NN bigger, larger and depper"
   ]
  }
 ],
 "metadata": {
  "kernelspec": {
   "display_name": "nn_zero_to_hero_kernel",
   "language": "python",
   "name": "nn_zero_to_hero_kernel"
  },
  "language_info": {
   "codemirror_mode": {
    "name": "ipython",
    "version": 3
   },
   "file_extension": ".py",
   "mimetype": "text/x-python",
   "name": "python",
   "nbconvert_exporter": "python",
   "pygments_lexer": "ipython3",
   "version": "3.11.5"
  }
 },
 "nbformat": 4,
 "nbformat_minor": 5
}
